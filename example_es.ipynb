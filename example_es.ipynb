{
 "cells": [
  {
   "cell_type": "markdown",
   "metadata": {},
   "source": [
    "# TastyTradeAPI – Ejemplo de uso en Jupyter Notebook\n",
    "\n",
    "Este documento muestra cómo utilizar la **API de Tastytrade** a través de la librería `TastyTradeAPI` incluida en el proyecto.  \n",
    "\n",
    "⚠️ **Nota importante**:  \n",
    "En esta sesión demo no dispongo de una **cuenta de trading asociada**, por lo que **no es posible ejecutar órdenes reales** ni consultar ciertas métricas de cuenta.  \n",
    "Aun así, todas las funciones están implementadas y acompañadas de **ejemplos de salida simulada**, por lo que se puede entender perfectamente cómo utilizarlas sin riesgo de error.  \n",
    "\n",
    "La documentación principal de la API está incluida en el propio código (`api.py`), con explicaciones y ejemplos de cada bloque de funciones. \n",
    " \n",
    "---\n",
    "\n",
    "# Índice\n",
    "\n",
    "- [TastyTradeAPI – Ejemplo de uso en Jupyter Notebook](#tastytradeapi-ejemplo-de-uso-en-jupyter-notebook)\n",
    "- [Estructura del proyecto](#estructura-del-proyecto)\n",
    "- [Importar la API](#importar-la-api)\n",
    "- [Login como cliente](#login-como-cliente)\n",
    "- [Revisar si la sesión sigue activa](#revisar-si-la-sesion-sigue-activa)\n",
    "- [Información de la cuenta](#informacion-de-la-cuenta)\n",
    "  - [Información básica del cliente](#informacion-basica-del-cliente)\n",
    "  - [Métricas de la cuenta](#metricas-de-la-cuenta)\n",
    "  - [Datos de posiciones](#datos-de-posiciones)\n",
    "  - [Datos de transacciones](#datos-de-transacciones)\n",
    "- [Ejecutar órdenes](#ejecutar-ordenes)\n",
    "- [Streamear datos de mercado históricos](#streamear-datos-de-mercado-historicos)\n",
    "  - [Parámetros](#parametros)\n",
    "  - [Ejemplo](#ejemplo)\n",
    "- [Streamear datos en tiempo real](#streamear-datos-en-tiempo-real)\n",
    "  - [Parámetros](#parametros-1)\n",
    "  - [Respuesta](#respuesta)\n",
    "\n",
    "\n",
    "---\n",
    "\n",
    "## Estructura del proyecto\n",
    "\n",
    "- **TastyTradeAPI/**  \n",
    "  - `__init__.py` → inicializador del módulo.  \n",
    "  - `api.py` → implementación de la API con todas las funciones documentadas. \n",
    "\n",
    "<br>\n",
    "\n",
    "- **example_es.ipynb** → cuaderno de ejemplo (este documento) en español.\n",
    "- **example_en.ipynb** → cuaderno de ejemplo en inglés.\n",
    "- **requirements.txt** → librerías externas necesarias para ejecutar el proyecto.  \n",
    "- **.env** → credenciales y configuración privada (usuario y contraseña de Tastytrade).  \n",
    "- **venv/** → entorno virtual de Python.  \n",
    "\n",
    "\n"
   ]
  },
  {
   "cell_type": "markdown",
   "metadata": {},
   "source": [
    "## Importar la API\n",
    "\n",
    "Para trabajar con esta API debes tener el repositorio **TastyTradeAPI** en el mismo directorio de tu proyecto e importarlo como se muestra a continuación.\n",
    "\n",
    "En el ejemplo se asigna el alias `ts`, aunque puedes utilizar cualquier nombre válido en Python.\n",
    "\n",
    "Las credenciales (`usuario` y `contraseña`) corresponden al correo y la contraseña de tu cuenta de Tastytrade.  \n",
    "Por seguridad, se recomienda cargarlas como **variables de entorno** en lugar de escribirlas directamente en el código. No obstante, también pueden pasarse como *strings* si lo prefieres."
   ]
  },
  {
   "cell_type": "code",
   "execution_count": 1,
   "metadata": {},
   "outputs": [],
   "source": [
    "from TastyTradeAPI.api import TastyTradeAPI as ts\n",
    "import os\n",
    "from dotenv import load_dotenv\n",
    "\n",
    "load_dotenv()\n",
    "\n",
    "USER = os.environ.get(\"MAIL\")\n",
    "PASS = os.environ.get(\"PASS\")"
   ]
  },
  {
   "cell_type": "markdown",
   "metadata": {},
   "source": [
    "## Login como cliente\n",
    "\n",
    "Para inicializar el cliente de la API es necesario indicar el **usuario** y la **contraseña** de tu cuenta de Tastytrade.  \n",
    "\n",
    "No es obligatorio tener una cuenta de trading abierta: basta con iniciar sesión.  \n",
    "Ten en cuenta que, sin una cuenta activa, no podrás ejecutar operaciones ni consultar métricas principales, aunque sí es posible acceder a los **datos históricos de mercado**.\n",
    "\n",
    "El cliente generado es un diccionario con la información de la sesión, por ejemplo (`el token no es real`):"
   ]
  },
  {
   "cell_type": "code",
   "execution_count": 7,
   "metadata": {},
   "outputs": [
    {
     "name": "stdout",
     "output_type": "stream",
     "text": [
      "{\"session_token\": \"fz9a8b7c6d5e4f3g2h1i0jklmnopqrstuVWXY\", \"account_number\": \"No Account\"}\n"
     ]
    }
   ],
   "source": [
    "api = ts()\n",
    "client = api.Client(USER,PASS)\n",
    "\n",
    "print(client)"
   ]
  },
  {
   "cell_type": "markdown",
   "metadata": {},
   "source": [
    "## Revisar si la sesión sigue activa\n",
    "\n",
    "La autenticación está basada en **tokens simples** (no en OAuth2), por lo que la sesión puede caducar tras unos minutos de inactividad.  \n",
    "\n",
    "La función correspondiente devuelve `True` si el cliente sigue activo y `False` en caso contrario.  \n",
    "En caso de que la sesión haya expirado, será necesario volver a **inicializar un nuevo cliente** con las credenciales.  \n"
   ]
  },
  {
   "cell_type": "code",
   "execution_count": 3,
   "metadata": {},
   "outputs": [
    {
     "name": "stdout",
     "output_type": "stream",
     "text": [
      "True\n"
     ]
    }
   ],
   "source": [
    "state = api.still_connected(client)\n",
    "\n",
    "print(state)"
   ]
  },
  {
   "cell_type": "markdown",
   "metadata": {},
   "source": [
    "## Información de la cuenta\n",
    "\n",
    "Una vez iniciada la sesión, es posible consultar los datos básicos del cliente y las métricas principales de su cuenta.\n",
    "\n",
    "### Información básica del cliente\n",
    "Devuelve datos generales como **nombre**, **email**, **país de origen** y el **net worth** asociado al perfil."
   ]
  },
  {
   "cell_type": "code",
   "execution_count": 4,
   "metadata": {},
   "outputs": [
    {
     "name": "stdout",
     "output_type": "stream",
     "text": [
      "{'name': 'Pablo Miñana', 'email': 'gandpablo04@gmail.com', 'citizenship_country': 'ESP', 'liquid_net_worth': 0}\n"
     ]
    }
   ],
   "source": [
    "info = api.client_info(client)\n",
    "\n",
    "print(info)"
   ]
  },
  {
   "cell_type": "markdown",
   "metadata": {},
   "source": [
    "### Métricas de la cuenta\n",
    "\n",
    "Las métricas proporcionan una visión rápida del estado financiero de la cuenta asociada al cliente:\n",
    "\n",
    "- **Balance** → saldo total disponible en la cuenta.  \n",
    "- **Equity Buying Power** → poder de compra disponible para operar con acciones.  \n",
    "- **Derivative Buying Power** → poder de compra disponible para operar con derivados (opciones, futuros).  \n",
    "- **Liquidity** → liquidez actual de la cuenta, considerando activos y pasivos.  \n",
    "- **Total Fees** → suma de todas las comisiones generadas hasta el momento.  "
   ]
  },
  {
   "cell_type": "code",
   "execution_count": null,
   "metadata": {},
   "outputs": [],
   "source": [
    "balance = api.balance(client)\n",
    "\n",
    "equityBP = api.equity_BP(client)\n",
    "\n",
    "derivativeBP = api.derivative_BP(client)\n",
    "\n",
    "liquidity = api.liquidity(client)\n",
    "\n",
    "total_fees = api.total_fees(client)\n",
    "\n",
    "print('Balance:', balance)\n",
    "print('Equity BP:', equityBP)\n",
    "print('Derivative BP:', derivativeBP)\n",
    "print('Liquidity:', liquidity)\n",
    "print('Total Fees:', total_fees)"
   ]
  },
  {
   "cell_type": "markdown",
   "metadata": {},
   "source": [
    "```Ejemplo de salida```\n",
    "\n",
    "```python\n",
    "Balance: 12534.25\n",
    "Equity BP: 10000.00\n",
    "Derivative BP: 2500.00\n",
    "Liquidity: 8750.50\n",
    "Total Fees: 35.75\n",
    "```\n",
    "\n",
    "---"
   ]
  },
  {
   "cell_type": "markdown",
   "metadata": {},
   "source": [
    "### Datos de posiciones\n",
    "\n",
    "Estas funciones permiten consultar información detallada sobre las posiciones abiertas en la cuenta asociada al cliente de Tastytrade.\n",
    "\n",
    "Cada posición incluye los siguientes campos:\n",
    "\n",
    "- **symbol** → Ticker de la acción.  \n",
    "\n",
    "- **quantity** → Cantidad de acciones en la posición.  \n",
    "\n",
    "- **type** → Tipo de posición: `Long` o `Short`.  \n",
    "\n",
    "- **profit** → Ganancia (>0) o pérdida (<0), calculada en función de la diferencia entre el precio actual (*mark*) y el precio de entrada (*cost basis*), ajustada por la cantidad y el multiplicador.  \n",
    "\n",
    "  **Fórmulas:**  \n",
    "\n",
    "  - **Posiciones *Long***  \n",
    "  ```\n",
    "   Profit = ( Mark − Cost Basis ) × Quantity × Multiplier\n",
    "  ```\n",
    "\n",
    "  - **Posiciones *Short***  \n",
    "  ```\n",
    "   Profit = ( Cost Basis − Mark ) × Quantity × Multiplier\n",
    "  ```\n",
    "\n",
    "\n",
    "- **avg_entry_price** → Precio promedio de entrada.  \n",
    "\n",
    "- **current_price** → Precio actual de la acción.  \n",
    "\n",
    "- **opened_at** → Fecha y hora de apertura de la posición.  \n",
    "\n",
    "- **updated_at** → Última fecha y hora de actualización de la posición.  \n",
    "\n",
    "La función devuelve un **diccionario**, donde la clave es el *ticker* y el valor es otro diccionario con toda la información de la posición correspondiente.\n"
   ]
  },
  {
   "cell_type": "code",
   "execution_count": null,
   "metadata": {},
   "outputs": [],
   "source": [
    "positions = api.all_positions(client)\n",
    "\n",
    "print(positions)"
   ]
  },
  {
   "cell_type": "markdown",
   "metadata": {},
   "source": [
    "```Ejemplo de salida```\n",
    "\n",
    "```python\n",
    "{\n",
    "  \"AAPL\": {\n",
    "    \"symbol\": \"AAPL\",\n",
    "    \"quantity\": 100,\n",
    "    \"type\": \"Long\",\n",
    "    \"profit\": 1250.00,\n",
    "    \"avg_entry_price\": 150.00,\n",
    "    \"current_price\": 162.50,\n",
    "    \"opened_at\": \"2025-09-10 14:30:00\",\n",
    "    \"updated_at\": \"2025-09-17 09:15:00\"\n",
    "  },\n",
    "  \"TSLA\": {\n",
    "    \"symbol\": \"TSLA\",\n",
    "    \"quantity\": 50,\n",
    "    \"type\": \"Short\",\n",
    "    \"profit\": -750.00,\n",
    "    \"avg_entry_price\": 240.00,\n",
    "    \"current_price\": 255.00,\n",
    "    \"opened_at\": \"2025-09-12 10:05:00\",\n",
    "    \"updated_at\": \"2025-09-17 09:15:00\"\n",
    "  }\n",
    "}\n",
    "```\n",
    "---"
   ]
  },
  {
   "cell_type": "markdown",
   "metadata": {},
   "source": [
    "También es posible consultar una posición concreta a partir de su *ticker*.  \n",
    "\n",
    "La función devuelve un **diccionario con la información de la posición** si existe, o `None` en caso contrario.  \n"
   ]
  },
  {
   "cell_type": "code",
   "execution_count": null,
   "metadata": {},
   "outputs": [],
   "source": [
    "pos = api.check_position(client, \"AAPL\")\n",
    "\n",
    "print(pos)"
   ]
  },
  {
   "cell_type": "markdown",
   "metadata": {},
   "source": [
    "```Ejemplo de salida```\n",
    "\n",
    "```python\n",
    "{\n",
    "  \"symbol\": \"AAPL\",\n",
    "  \"quantity\": 100,\n",
    "  \"type\": \"Long\",\n",
    "  \"profit\": 1250.00,\n",
    "  \"avg_entry_price\": 150.00,\n",
    "  \"current_price\": 162.50,\n",
    "  \"opened_at\": \"2025-09-10 14:30:00\",\n",
    "  \"updated_at\": \"2025-09-17 09:15:00\"\n",
    "}\n",
    "```\n",
    "\n",
    "---"
   ]
  },
  {
   "cell_type": "markdown",
   "metadata": {},
   "source": [
    "### Datos de transacciones\n",
    "\n",
    "Estas funciones permiten revisar las transacciones realizadas en la cuenta asociada al cliente de Tastytrade.  \n",
    "\n",
    "Cada transacción incluye los siguientes campos:\n",
    "\n",
    "- **id** → Identificador único de la transacción.  \n",
    "\n",
    "- **transaction_type** → Tipo de transacción (ej. `Buy`, `Sell`, `Dividend`, `Fee`...).  \n",
    "\n",
    "- **description** → Descripción de la operación (ej. *Buy to Open*).  \n",
    "\n",
    "- **quantity** → Cantidad de acciones o contratos involucrados.  \n",
    "\n",
    "- **price** → Precio unitario de ejecución.  \n",
    "\n",
    "- **value** → Valor total de la transacción.  \n",
    "\n",
    "- **date** → Fecha y hora de ejecución de la operación.  \n",
    "\n",
    "La función devuelve un **diccionario** en el que la clave es el *ticker* y el valor es una **lista de transacciones** asociadas a ese símbolo.\n"
   ]
  },
  {
   "cell_type": "code",
   "execution_count": null,
   "metadata": {},
   "outputs": [],
   "source": [
    "transactions = api.all_transactions(client)\n",
    "\n",
    "print(transactions)"
   ]
  },
  {
   "cell_type": "markdown",
   "metadata": {},
   "source": [
    "`Ejemplo de salida`\n",
    "\n",
    "```python\n",
    "{\n",
    "  \"AAPL\": [\n",
    "    {\n",
    "      \"id\": \"TX001\",\n",
    "      \"transaction_type\": \"Buy\",\n",
    "      \"description\": \"Buy to Open\",\n",
    "      \"quantity\": 100,\n",
    "      \"price\": 150.00,\n",
    "      \"value\": 15000.00,\n",
    "      \"date\": \"2025-09-10 14:30:00\"\n",
    "    }\n",
    "  ],\n",
    "  \"TSLA\": [\n",
    "    {\n",
    "      \"id\": \"TX002\",\n",
    "      \"transaction_type\": \"Sell\",\n",
    "      \"description\": \"Sell to Close\",\n",
    "      \"quantity\": 50,\n",
    "      \"price\": 240.00,\n",
    "      \"value\": 12000.00,\n",
    "      \"date\": \"2025-09-12 10:05:00\"\n",
    "    }\n",
    "  ]\n",
    "}\n",
    "```\n"
   ]
  },
  {
   "cell_type": "markdown",
   "metadata": {},
   "source": [
    "También es posible consultar las transacciones asociadas a un *ticker* específico.  \n",
    "\n",
    "La función devuelve una **lista de transacciones** si existen, o `None` en caso contrario"
   ]
  },
  {
   "cell_type": "code",
   "execution_count": null,
   "metadata": {},
   "outputs": [],
   "source": [
    "txs = api.check_transaction(client, \"AAPL\")\n",
    "\n",
    "print(txs)"
   ]
  },
  {
   "cell_type": "markdown",
   "metadata": {},
   "source": [
    "`Ejemplo de salida`\n",
    "\n",
    "```python\n",
    "[\n",
    "  {\n",
    "    \"id\": \"TX001\",\n",
    "    \"transaction_type\": \"Buy\",\n",
    "    \"description\": \"Buy to Open\",\n",
    "    \"quantity\": 100,\n",
    "    \"price\": 150.00,\n",
    "    \"value\": 15000.00,\n",
    "    \"date\": \"2025-09-10 14:30:00\"\n",
    "  }\n",
    "]\n",
    "```\n",
    "---"
   ]
  },
  {
   "cell_type": "markdown",
   "metadata": {},
   "source": [
    "## Ejecutar órdenes\n",
    "\n",
    "Para dar una orden debes indicar:\n",
    "\n",
    "- **symbol (ticker)**: El activo sobre el que operar, por ejemplo `\"AAPL\"`.  \n",
    "\n",
    "- **quantity (val)**: El número de acciones o contratos.  \n",
    "\n",
    "- **order-type**: Si la orden es `'Long'` (posición larga) o `'Short'` (posición corta).  \n",
    "\n",
    "- **action**: Si quieres abrir una posición (`'Start'`) o cerrarla (`'End'`).  \n",
    "\n",
    "- **time-in-force**: Determina cuánto tiempo permanece activa la orden:  \n",
    "  - `'Day'` → válida solo hasta el cierre del mercado.  \n",
    "  - `'GTC'` → permanece activa hasta que se ejecute o la canceles.  \n",
    "  - `'GTD'` → válida hasta una fecha concreta (requiere parámetro adicional `gtc-date`).  \n",
    "  - `'Ext'` → válida solo en horario extendido (equities).  \n",
    "<br>\n",
    "\n",
    "- **otype**: Define cómo se ejecuta la orden:  \n",
    "  - `'Market'` → se ejecuta al mejor precio disponible, sin indicar precio.  \n",
    "  - `'Limit'` → requiere indicar precio y se ejecuta si el mercado lo alcanza.  \n",
    "  - `'Stop'` → se activa como market cuando se cumple un precio disparador.  \n",
    "  - `'Stop Limit'` → se activa como limit cuando se cumple un precio disparador.  \n",
    "<br>\n",
    "\n",
    "Por ejemplo, para: Comprar 10 acciones de Apple (AAPL) con una orden de mercado (Market), válida hasta el cierre de hoy (Day).\n"
   ]
  },
  {
   "cell_type": "code",
   "execution_count": null,
   "metadata": {},
   "outputs": [],
   "source": [
    "order_result = api.order(\n",
    "    Client=client,\n",
    "    ticker=\"AAPL\",        \n",
    "    val=10,               \n",
    "    order_type=\"Long\",    \n",
    "    action=\"Start\",       \n",
    "    time_force=\"Day\",     \n",
    "    otype=\"Market\"        \n",
    ")\n",
    "\n",
    "print(order_result)"
   ]
  },
  {
   "cell_type": "markdown",
   "metadata": {},
   "source": [
    "`Ejemplo de salida`\n",
    "\n",
    "```python\n",
    "{\n",
    "  \"Status\": \"Filled\",\n",
    "  \"Size\": 10,\n",
    "  \"Fees\": 1.25,\n",
    "  \"Commission\": 0.50,\n",
    "  \"NewBuyingPower\": 9850.00,\n",
    "  \"ReceivedAt\": \"2025-09-17 14:35:00\"\n",
    "}\n",
    "```\n"
   ]
  },
  {
   "cell_type": "markdown",
   "metadata": {},
   "source": [
    "Al ejecutar una orden, se devuelve un diccionario con los siguientes campos:\n",
    "\n",
    "- **Status** → Estado de la orden (`Routed`, `Filled`, `Cancelled`, etc.).  \n",
    "\n",
    "- **Size** → Cantidad enviada en la orden.  \n",
    "\n",
    "- **Fees** → Tasas totales asociadas a la operación.  \n",
    "\n",
    "- **Commission** → Comisión del broker.  \n",
    "\n",
    "- **NewBuyingPower** → Poder de compra disponible tras la orden.  \n",
    "\n",
    "- **ReceivedAt** → Fecha y hora en que la orden fue recibida. "
   ]
  },
  {
   "cell_type": "markdown",
   "metadata": {},
   "source": [
    "## Streamear datos de mercado históricos\n",
    "\n",
    "Esta función se conecta con el proveedor de *market data* **DXFeed** (integrado en Tastytrade).  \n",
    "\n",
    "⚠️ **Importante**: <br>\n",
    "**Puede tardar varios segundos**. Dependiendo de la cantidad de tickers que solicites y la cantidad de datos, pero no es extraño que tarde `más de 20 segundos` para 50 datos de un solo ticker. Si pones muchos datos de muchas acciones puede incluso ejecutar por `más de 1 minuto`.\n",
    "\n",
    "El flujo de trabajo es el siguiente:\n",
    "\n",
    "1. Con el **cliente** se obtiene un *token* de DX.  \n",
    "\n",
    "2. Con ese token se solicita vía **websocket** el histórico de velas (*candles*) de los **tickers** indicados.  \n",
    "\n",
    "3. Los datos recibidos se formatean en un `DataFrame` con las variables elegidas.  \n",
    "\n",
    "4. Finalmente, se devuelven en un diccionario donde cada clave es un ticker y el valor es su `DataFrame`.  \n",
    "\n",
    "⚠️ **Limitación importante de DXFeed**:  \n",
    "Por diseño, solo permite pedir datos desde el **momento actual hacia atrás** hasta el número máximo solicitado (`max_data`).  \n",
    "No se pueden pedir intervalos arbitrarios (ej. de una fecha a otra).  \n",
    "Por eso existe la función auxiliar `values_from_data`, que calcula cuántos registros necesitas para llegar hasta la fecha deseada.\n",
    "\n",
    "---\n",
    "\n",
    "##### Parámetros\n",
    "\n",
    "- **client** → Cliente de tastytrade definido al principio.  \n",
    "\n",
    "- **tickers** → Lista de símbolos de los activos que quieres consultar.  \n",
    "  Ejemplo: `[\"AAPL\", \"MSFT\"]`.  \n",
    "\n",
    "- **interval** → Define la granularidad de los datos. Se pasa como número + unidad:  \n",
    "  - `s` → segundos  \n",
    "  - `m` → minutos  \n",
    "  - `h` → horas  \n",
    "  - `d` → días  \n",
    "  - `w` → semanas  \n",
    "  - `mo` → meses  \n",
    "  Ejemplo: `\"5m\"` = velas de 5 minutos.  \n",
    "<br>\n",
    "\n",
    "- **vars** → Lista de variables que quieres recuperar. Valores disponibles (especificar las que quieres)\n",
    "  - `'open'` → Apertura (`Open`) \n",
    "  - `'high'` → Máximo (`High`)  \n",
    "  - `'low'` → Mínimo (`Low`)  \n",
    "  - `'close'` → Cierre (`Close`)  \n",
    "  - `'volume'` → Volumen (`Volume`)  \n",
    "<br>\n",
    "\n",
    "- **max_data** → Número máximo de registros a solicitar.  \n",
    "  Normalmente se ajusta con la función `values_from_data` para obtener justo los datos necesarios hasta la fecha deseada.  \n",
    "\n",
    "\n",
    "##### `Ejemplo`:\n",
    "`Descargar 50 velas cada 5 minutos de AAPL y TSLA, solo open close y volume`\n",
    "\n",
    "La función devuelve un **diccionario** con la siguiente estructura:\n",
    "\n",
    "```python\n",
    "{\n",
    "    \"AAPL\": DataFrame con columnas [Open, Close, Volume, Date],\n",
    "    \"TSLA\": DataFrame con columnas [Open, Close, Volume, Date],\n",
    "}"
   ]
  },
  {
   "cell_type": "code",
   "execution_count": 5,
   "metadata": {},
   "outputs": [],
   "source": [
    "tickers = ['AAPL','TSLA']\n",
    "interval = '5m'\n",
    "max_data= 50\n",
    "vars = ['open', 'close','volume']\n",
    "\n",
    "historical = api.get_historical(client, tickers, interval, vars,max_data)"
   ]
  },
  {
   "cell_type": "code",
   "execution_count": 8,
   "metadata": {},
   "outputs": [
    {
     "data": {
      "text/html": [
       "<div>\n",
       "<style scoped>\n",
       "    .dataframe tbody tr th:only-of-type {\n",
       "        vertical-align: middle;\n",
       "    }\n",
       "\n",
       "    .dataframe tbody tr th {\n",
       "        vertical-align: top;\n",
       "    }\n",
       "\n",
       "    .dataframe thead th {\n",
       "        text-align: right;\n",
       "    }\n",
       "</style>\n",
       "<table border=\"1\" class=\"dataframe\">\n",
       "  <thead>\n",
       "    <tr style=\"text-align: right;\">\n",
       "      <th></th>\n",
       "      <th>Open</th>\n",
       "      <th>Close</th>\n",
       "      <th>Volume</th>\n",
       "      <th>Date</th>\n",
       "    </tr>\n",
       "  </thead>\n",
       "  <tbody>\n",
       "    <tr>\n",
       "      <th>25</th>\n",
       "      <td>421.39</td>\n",
       "      <td>421.4199</td>\n",
       "      <td>5301.0</td>\n",
       "      <td>2025-09-16 21:30:00</td>\n",
       "    </tr>\n",
       "    <tr>\n",
       "      <th>26</th>\n",
       "      <td>421.3875</td>\n",
       "      <td>421.3</td>\n",
       "      <td>4699.0</td>\n",
       "      <td>2025-09-16 21:25:00</td>\n",
       "    </tr>\n",
       "    <tr>\n",
       "      <th>27</th>\n",
       "      <td>421.201</td>\n",
       "      <td>421.345</td>\n",
       "      <td>5873.0</td>\n",
       "      <td>2025-09-16 21:20:00</td>\n",
       "    </tr>\n",
       "    <tr>\n",
       "      <th>28</th>\n",
       "      <td>421.6378</td>\n",
       "      <td>421.2003</td>\n",
       "      <td>5399.0</td>\n",
       "      <td>2025-09-16 21:15:00</td>\n",
       "    </tr>\n",
       "    <tr>\n",
       "      <th>29</th>\n",
       "      <td>421.359</td>\n",
       "      <td>421.6</td>\n",
       "      <td>5233.0</td>\n",
       "      <td>2025-09-16 21:10:00</td>\n",
       "    </tr>\n",
       "    <tr>\n",
       "      <th>30</th>\n",
       "      <td>421.39</td>\n",
       "      <td>421.31</td>\n",
       "      <td>6369.0</td>\n",
       "      <td>2025-09-16 21:05:00</td>\n",
       "    </tr>\n",
       "  </tbody>\n",
       "</table>\n",
       "</div>"
      ],
      "text/plain": [
       "        Open     Close  Volume                Date\n",
       "25    421.39  421.4199  5301.0 2025-09-16 21:30:00\n",
       "26  421.3875     421.3  4699.0 2025-09-16 21:25:00\n",
       "27   421.201   421.345  5873.0 2025-09-16 21:20:00\n",
       "28  421.6378  421.2003  5399.0 2025-09-16 21:15:00\n",
       "29   421.359     421.6  5233.0 2025-09-16 21:10:00\n",
       "30    421.39    421.31  6369.0 2025-09-16 21:05:00"
      ]
     },
     "execution_count": 8,
     "metadata": {},
     "output_type": "execute_result"
    }
   ],
   "source": [
    "historical['TSLA'].head(6)"
   ]
  },
  {
   "cell_type": "markdown",
   "metadata": {},
   "source": [
    "Se puede calcular `max_data` según una fecha (`values_from_data`)\n",
    "\n",
    "Esta función calcula automáticamente cuántos puntos (`max_data`) hay que pedir en `get_historical` para cubrir desde una **fecha inicial** hasta **ahora**, en función del intervalo.\n",
    "\n",
    "Parámetros necesarios\n",
    "- **interval** → tamaño de vela (`'5m'`, `'1h'`, `'1d'`, `'1w'`, `'1mo'`).  \n",
    "- **date** → fecha inicial (`datetime`).\n",
    "\n",
    "Devuelve un entero que luego se pasa como `max_data` en `get_historical` para obtener todos los datos desde esa fecha hasta el presente.\n",
    "\n",
    "`Ejemplo:` Obtener velas diarias ('1d') desde el **21 de abril de 2025** hasta hoy:"
   ]
  },
  {
   "cell_type": "code",
   "execution_count": 9,
   "metadata": {},
   "outputs": [
    {
     "name": "stdout",
     "output_type": "stream",
     "text": [
      "Como max_data usaremos:  150\n"
     ]
    }
   ],
   "source": [
    "from datetime import datetime, timezone\n",
    "\n",
    "date = datetime(2025, 4, 21, 12, 0, tzinfo=timezone.utc)\n",
    "needed = api.values_from_data(\"1d\", date)\n",
    "\n",
    "print('Como max_data usaremos: ',needed)"
   ]
  },
  {
   "cell_type": "markdown",
   "metadata": {},
   "source": [
    "## Streamear datos en tiempo real \n",
    "\n",
    "`RealTimeStreamer` es un contenedor sencillo para conectarse al **websocket de DXFeed** (vía Tastytrade) y recibir **cotizaciones en tiempo real** sin que el usuario tenga que gestionar la conexión manualmente. Está pensado para dashboards, bots o scripts que necesiten precios en tiempo real de varios símbolos.\n",
    "\n",
    "**Devuelve** un diccionario con el **`askPrice`** de cada cotización indicada. \n",
    "**Conexión:** es **abierta y persistente**; por ello, en ocasiones pueden llegar **mensajes difusos o incompletos**, algunas conexiones pueden **tardar en abrirse o cerrarse**, y **no todos los símbolos** actualizan a la vez (algunos mensajes **pueden llegar con retraso** respecto a otros).\n",
    "\n",
    "**Funcionamiento:** el objeto envía mensajes continuamente hasta que el usuario lo detenga; normalmente se debe usar con **bucles `while` (perpetuos)** o **`while` con `break` / `for`** si solo se quiere activo un tiempo establecido.\n",
    "\n",
    "\n",
    "```Los datos están contenidos en la variable del streamer llamada data --> objeto.data```\n",
    "\n",
    "---\n",
    "\n",
    "#### Parámetros\n",
    "\n",
    "- `client`: cliente de tasty trade que hemos definido al principio.  \n",
    "- `tickers`: lista de símbolos, p. ej. `[\"AAPL\", \"TSLA\"]`.  \n",
    "- `verbose` *(bool, opcional; por defecto `False`)*: si está en `True`, **imprime todos los mensajes** del websocket y el estado de la conexión (útil para depurar).\n",
    "\n",
    "---\n",
    "\n",
    "#### Respuesta\n",
    "\n",
    "- **`data`** *(dict)*: último **`askPrice`** por símbolo, p. ej.  \n",
    "  ```python\n",
    "  {\"AAPL\": 238.00, \"MSFT\": 510.05}\n",
    "  ```\n",
    "\n",
    "  >\n",
    "  > **``` Esta es la variable con la que podrás trabajar```**  \n",
    "  >\n",
    "\n",
    "\n"
   ]
  },
  {
   "cell_type": "code",
   "execution_count": 3,
   "metadata": {},
   "outputs": [
    {
     "name": "stdout",
     "output_type": "stream",
     "text": [
      "{'AAPL': 238.0, 'TSLA': 423.42, 'MSFT': 510.25, 'AMZN': 233.95, 'GOOGL': 251.52}\n",
      "{'AAPL': 238.0, 'TSLA': 423.48, 'MSFT': 510.25, 'AMZN': 233.95, 'GOOGL': 251.52}\n",
      "{'AAPL': 238.0, 'TSLA': 423.48, 'MSFT': 510.25, 'AMZN': 233.95, 'GOOGL': 251.52}\n",
      "{'AAPL': 238.0, 'TSLA': 423.48, 'MSFT': 510.25, 'AMZN': 233.95, 'GOOGL': 251.52}\n",
      "{'AAPL': 238.0, 'TSLA': 423.48, 'MSFT': 510.25, 'AMZN': 233.95, 'GOOGL': 251.52}\n",
      "{'AAPL': 238.0, 'TSLA': 423.48, 'MSFT': 510.25, 'AMZN': 233.95, 'GOOGL': 251.52}\n",
      "{'AAPL': 238.0, 'TSLA': 423.48, 'MSFT': 510.25, 'AMZN': 233.95, 'GOOGL': 251.52}\n",
      "{'AAPL': 238.0, 'TSLA': 423.48, 'MSFT': 510.39, 'AMZN': 233.95, 'GOOGL': 251.52}\n",
      "{'AAPL': 238.0, 'TSLA': 423.48, 'MSFT': 510.39, 'AMZN': 233.95, 'GOOGL': 251.52}\n",
      "{'AAPL': 238.0, 'TSLA': 423.5, 'MSFT': 510.36, 'AMZN': 233.95, 'GOOGL': 251.52}\n"
     ]
    }
   ],
   "source": [
    "import time\n",
    "\n",
    "tickers = ['AAPL','TSLA','MSFT','AMZN','GOOGL']   \n",
    "\n",
    "stream = api.RealTimeStreamer(client,tickers)\n",
    "\n",
    "stream.start()\n",
    "\n",
    "for _ in range(10):\n",
    "    data = stream.data\n",
    "    print(data)\n",
    "    time.sleep(1)\n",
    "    \n",
    "stream.stop()"
   ]
  },
  {
   "cell_type": "code",
   "execution_count": 6,
   "metadata": {},
   "outputs": [
    {
     "name": "stdout",
     "output_type": "stream",
     "text": [
      "-->Connection opened\n",
      "Message received --> {\"type\":\"SETUP\",\"channel\":0,\"keepaliveTimeout\":120,\"acceptKeepaliveTimeout\":120,\"version\":\"1.0-1.2.3-20240912-171526\"}\n",
      "Message received --> {\"type\":\"AUTH_STATE\",\"channel\":0,\"state\":\"UNAUTHORIZED\"}\n",
      "Message received --> {\"type\":\"AUTH_STATE\",\"channel\":0,\"state\":\"AUTHORIZED\",\"userId\":\"abcd1234-5678-90ab-cdef-112233445566\"}\n",
      "Message received --> {\"type\":\"CHANNEL_OPENED\",\"channel\":3,\"service\":\"FEED\",\"parameters\":{\"contract\":\"AUTO\",\"subFormat\":\"LIST\"}}\n",
      "Message received --> {\"type\":\"FEED_CONFIG\",\"channel\":3,\"dataFormat\":\"COMPACT\",\"aggregationPeriod\":0.1}\n",
      "Message received --> {\"type\":\"FEED_CONFIG\",\"channel\":3,\"dataFormat\":\"COMPACT\",\"aggregationPeriod\":0.1,\"eventFields\":{\"Quote\":[\"askPrice\",\"eventSymbol\"]}}\n",
      "Message received --> {\"type\":\"FEED_DATA\",\"channel\":3,\"data\":[\"Quote\",[241.15,\"AAPL\"]]}\n",
      "{'AAPL': 241.15}\n",
      "Se ha cumplido la condición, deteniendo el stream.\n",
      "-->Connection closed\n",
      "-->Streamer stopped\n"
     ]
    }
   ],
   "source": [
    "tickers = ['AAPL']\n",
    "\n",
    "stream = api.RealTimeStreamer(client,tickers,verbose=True)\n",
    "\n",
    "stream.start()\n",
    "\n",
    "\n",
    "while True:\n",
    "    data = stream.data\n",
    "    print(data)\n",
    "\n",
    "    if data and data['AAPL'] > 238:\n",
    "        print(\"Se ha cumplido la condición, deteniendo el stream.\")\n",
    "        stream.stop()\n",
    "        break\n",
    "\n",
    "    time.sleep(1)"
   ]
  },
  {
   "cell_type": "markdown",
   "metadata": {},
   "source": [
    "`La variable userId esta generada aleatoriamente para que no sea visible`"
   ]
  }
 ],
 "metadata": {
  "kernelspec": {
   "display_name": "base",
   "language": "python",
   "name": "python3"
  },
  "language_info": {
   "codemirror_mode": {
    "name": "ipython",
    "version": 3
   },
   "file_extension": ".py",
   "mimetype": "text/x-python",
   "name": "python",
   "nbconvert_exporter": "python",
   "pygments_lexer": "ipython3",
   "version": "3.12.0"
  }
 },
 "nbformat": 4,
 "nbformat_minor": 2
}
