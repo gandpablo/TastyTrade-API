{
 "cells": [
  {
   "cell_type": "markdown",
   "metadata": {},
   "source": [
    "# TastyTradeAPI – Example of Use in Jupyter Notebook\n",
    "\n",
    "This document shows how to use the **Tastytrade API** through the `TastyTradeAPI` library included in the project.  \n",
    "\n",
    "⚠️ **Important Note**:  \n",
    "In this demo session I do not have a **linked trading account**, therefore **it is not possible to place real orders** or query certain account metrics.  \n",
    "Nevertheless, all functions are implemented and accompanied by **simulated output examples**, so you can fully understand how to use them without any risk of error.  \n",
    "\n",
    "The main API documentation is included in the source code itself (`api.py`), with explanations and examples for each function block.  \n",
    "\n",
    "---\n",
    "\n",
    "# Table of Contents\n",
    "\n",
    "- [TastyTradeAPI – Example of Use in Jupyter Notebook](#tastytradeapi--example-of-use-in-jupyter-notebook)\n",
    "- [Project Structure](#project-structure)\n",
    "- [Import the API](#import-the-api)\n",
    "- [Login as Client](#login-as-client)\n",
    "- [Check if the Session is Still Active](#check-if-the-session-is-still-active)\n",
    "- [Account Information](#account-information)\n",
    "  - [Basic Client Information](#basic-client-information)\n",
    "  - [Account Metrics](#account-metrics)\n",
    "  - [Positions Data](#positions-data)\n",
    "  - [Transactions Data](#transactions-data)\n",
    "- [Execute Orders](#execute-orders)\n",
    "- [Stream Historical Market Data](#stream-historical-market-data)\n",
    "  - [Parameters](#parameters)\n",
    "  - [Example](#example)\n",
    "- [Stream Real-Time Data](#stream-real-time-data)\n",
    "  - [Parameters](#parameters-1)\n",
    "  - [Response](#response)\n",
    "\n",
    "\n",
    "---\n",
    "\n",
    "## Project Structure\n",
    "\n",
    "- **TastyTradeAPI/**  \n",
    "  - `__init__.py` → module initializer.  \n",
    "  - `api.py` → API implementation with all documented functions.  \n",
    "\n",
    "<br>\n",
    "\n",
    "- **example_es.ipynb** → example notebook in Spanish.  \n",
    "- **example_en.ipynb** → example notebook (this document) in English.  \n",
    "- **requirements.txt** → external libraries required to run the project.  \n",
    "- **.env** → private credentials and configuration (Tastytrade username and password).  \n",
    "- **venv/** → Python virtual environment.  \n"
   ]
  },
  {
   "cell_type": "markdown",
   "metadata": {},
   "source": [
    "## Import the API\n",
    "\n",
    "To work with this API you must have the **TastyTradeAPI** repository in the same directory as your project and import it as shown below.  \n",
    "\n",
    "In the example, the alias `ts` is assigned, although you can use any valid Python name.  \n",
    "\n",
    "The credentials (`username` and `password`) correspond to the email and password of your Tastytrade account.  \n",
    "For security reasons, it is recommended to load them as **environment variables** instead of writing them directly into the code. However, they can also be passed as *strings* if you prefer.\n"
   ]
  },
  {
   "cell_type": "code",
   "execution_count": 2,
   "metadata": {},
   "outputs": [],
   "source": [
    "from TastyTradeAPI.api import TastyTradeAPI as ts\n",
    "import os\n",
    "from dotenv import load_dotenv\n",
    "\n",
    "load_dotenv()\n",
    "\n",
    "USER = os.environ.get(\"MAIL\")\n",
    "PASS = os.environ.get(\"PASS\")"
   ]
  },
  {
   "cell_type": "markdown",
   "metadata": {},
   "source": [
    "## Login as Client\n",
    "\n",
    "To initialize the API client, you need to provide the **username** and **password** of your Tastytrade account.  \n",
    "\n",
    "It is not mandatory to have an active trading account: logging in is enough.  \n",
    "Keep in mind that without an active account you will not be able to execute trades or query key metrics, although you can still access **historical market data**.  \n",
    "\n",
    "The generated client is a dictionary containing the session information, for example (`the token is not real`):\n"
   ]
  },
  {
   "cell_type": "code",
   "execution_count": 11,
   "metadata": {},
   "outputs": [
    {
     "name": "stdout",
     "output_type": "stream",
     "text": [
      "{\"session_token\": \"fz9a8b7c6d5e4f3g2h1i0jklmnopqrstuVWXY\", \"account_number\": \"No Account\"}\n"
     ]
    }
   ],
   "source": [
    "api = ts()\n",
    "client = api.Client(USER,PASS)\n",
    "\n",
    "print(client)"
   ]
  },
  {
   "cell_type": "markdown",
   "metadata": {},
   "source": [
    "## Revisar si la sesión sigue activa\n",
    "\n",
    "La autenticación está basada en **tokens simples** (no en OAuth2), por lo que la sesión puede caducar tras unos minutos de inactividad.  \n",
    "\n",
    "La función correspondiente devuelve `True` si el cliente sigue activo y `False` en caso contrario.  \n",
    "En caso de que la sesión haya expirado, será necesario volver a **inicializar un nuevo cliente** con las credenciales. "
   ]
  },
  {
   "cell_type": "code",
   "execution_count": 4,
   "metadata": {},
   "outputs": [
    {
     "name": "stdout",
     "output_type": "stream",
     "text": [
      "True\n"
     ]
    }
   ],
   "source": [
    "state = api.still_connected(client)\n",
    "\n",
    "print(state)"
   ]
  },
  {
   "cell_type": "markdown",
   "metadata": {},
   "source": [
    "## Account Information\n",
    "\n",
    "Once the session is started, you can query the client’s basic data and the main account metrics.  \n",
    "\n",
    "### Basic Client Information\n",
    "Returns general data such as **name**, **email**, **country of origin**, and the **net worth** associated with the profile.\n"
   ]
  },
  {
   "cell_type": "code",
   "execution_count": 5,
   "metadata": {},
   "outputs": [
    {
     "name": "stdout",
     "output_type": "stream",
     "text": [
      "{'name': 'Pablo Miñana', 'email': 'gandpablo04@gmail.com', 'citizenship_country': 'ESP', 'liquid_net_worth': 0}\n"
     ]
    }
   ],
   "source": [
    "info = api.client_info(client)\n",
    "\n",
    "print(info)"
   ]
  },
  {
   "cell_type": "markdown",
   "metadata": {},
   "source": [
    "### Account Metrics\n",
    "\n",
    "The metrics provide a quick overview of the financial status of the client’s account:\n",
    "\n",
    "- **Balance** → total available funds in the account.  \n",
    "- **Equity Buying Power** → available buying power for trading stocks.  \n",
    "- **Derivative Buying Power** → available buying power for trading derivatives (options, futures).  \n",
    "- **Liquidity** → current liquidity of the account, considering assets and liabilities.  \n",
    "- **Total Fees** → sum of all commissions generated so far.  \n"
   ]
  },
  {
   "cell_type": "code",
   "execution_count": null,
   "metadata": {},
   "outputs": [],
   "source": [
    "balance = api.balance(client)\n",
    "\n",
    "equityBP = api.equity_BP(client)\n",
    "\n",
    "derivativeBP = api.derivative_BP(client)\n",
    "\n",
    "liquidity = api.liquidity(client)\n",
    "\n",
    "total_fees = api.total_fees(client)\n",
    "\n",
    "print('Balance:', balance)\n",
    "print('Equity BP:', equityBP)\n",
    "print('Derivative BP:', derivativeBP)\n",
    "print('Liquidity:', liquidity)\n",
    "print('Total Fees:', total_fees)"
   ]
  },
  {
   "cell_type": "markdown",
   "metadata": {},
   "source": [
    "```Example Output```\n",
    "\n",
    "```python\n",
    "Balance: 12534.25\n",
    "Equity BP: 10000.00\n",
    "Derivative BP: 2500.00\n",
    "Liquidity: 8750.50\n",
    "Total Fees: 35.75\n",
    "```\n",
    "---"
   ]
  },
  {
   "cell_type": "markdown",
   "metadata": {},
   "source": [
    "### Positions Data\n",
    "\n",
    "These functions allow you to query detailed information about the open positions in the client’s Tastytrade account.  \n",
    "\n",
    "Each position includes the following fields:\n",
    "\n",
    "- **symbol** → Stock ticker.  \n",
    "\n",
    "- **quantity** → Number of shares in the position.  \n",
    "\n",
    "- **type** → Position type: `Long` or `Short`.  \n",
    "\n",
    "- **profit** → Profit (>0) or loss (<0), calculated based on the difference between the current price (*mark*) and the entry price (*cost basis*), adjusted by the quantity and the multiplier.  \n",
    "\n",
    "  **Formulas:**  \n",
    "\n",
    "    - **Long Positions**  \n",
    "  ```\n",
    "   Profit = ( Mark − Cost Basis ) × Quantity × Multiplier\n",
    "  ```\n",
    "    - **Short Positions**  \n",
    "  ```\n",
    "   Profit = ( Cost Basis − Mark ) × Quantity × Multiplier\n",
    "  ```\n",
    "\n",
    "\n",
    "- **avg_entry_price** → Average entry price.  \n",
    "\n",
    "- **current_price** → Current stock price.  \n",
    "\n",
    "- **opened_at** → Date and time when the position was opened.  \n",
    "\n",
    "- **updated_at** → Last date and time when the position was updated.  \n",
    "\n",
    "The function returns a **dictionary**, where the key is the *ticker* and the value is another dictionary containing all the information for the corresponding position.\n"
   ]
  },
  {
   "cell_type": "code",
   "execution_count": null,
   "metadata": {},
   "outputs": [],
   "source": [
    "positions = api.all_positions(client)\n",
    "\n",
    "print(positions)"
   ]
  },
  {
   "cell_type": "markdown",
   "metadata": {},
   "source": [
    "```Example Output```\n",
    "\n",
    "```python\n",
    "{\n",
    "  \"AAPL\": {\n",
    "    \"symbol\": \"AAPL\",\n",
    "    \"quantity\": 100,\n",
    "    \"type\": \"Long\",\n",
    "    \"profit\": 1250.00,\n",
    "    \"avg_entry_price\": 150.00,\n",
    "    \"current_price\": 162.50,\n",
    "    \"opened_at\": \"2025-09-10 14:30:00\",\n",
    "    \"updated_at\": \"2025-09-17 09:15:00\"\n",
    "  },\n",
    "  \"TSLA\": {\n",
    "    \"symbol\": \"TSLA\",\n",
    "    \"quantity\": 50,\n",
    "    \"type\": \"Short\",\n",
    "    \"profit\": -750.00,\n",
    "    \"avg_entry_price\": 240.00,\n",
    "    \"current_price\": 255.00,\n",
    "    \"opened_at\": \"2025-09-12 10:05:00\",\n",
    "    \"updated_at\": \"2025-09-17 09:15:00\"\n",
    "  }\n",
    "}\n"
   ]
  },
  {
   "cell_type": "markdown",
   "metadata": {},
   "source": [
    "It is also possible to query a specific position by its *ticker*.  \n",
    "\n",
    "The function returns a **dictionary with the position information** if it exists, or `None` otherwise.\n"
   ]
  },
  {
   "cell_type": "code",
   "execution_count": null,
   "metadata": {},
   "outputs": [],
   "source": [
    "pos = api.check_position(client, \"AAPL\")\n",
    "\n",
    "print(pos)"
   ]
  },
  {
   "cell_type": "markdown",
   "metadata": {},
   "source": [
    "```Example Output```\n",
    "\n",
    "```python\n",
    "{\n",
    "  \"symbol\": \"AAPL\",\n",
    "  \"quantity\": 100,\n",
    "  \"type\": \"Long\",\n",
    "  \"profit\": 1250.00,\n",
    "  \"avg_entry_price\": 150.00,\n",
    "  \"current_price\": 162.50,\n",
    "  \"opened_at\": \"2025-09-10 14:30:00\",\n",
    "  \"updated_at\": \"2025-09-17 09:15:00\"\n",
    "}\n",
    "```\n",
    "---"
   ]
  },
  {
   "cell_type": "markdown",
   "metadata": {},
   "source": [
    "### Transactions Data\n",
    "\n",
    "These functions allow you to review the transactions made in the client’s Tastytrade account.  \n",
    "\n",
    "Each transaction includes the following fields:\n",
    "\n",
    "- **id** → Unique identifier of the transaction.  \n",
    "\n",
    "- **transaction_type** → Type of transaction (e.g. `Buy`, `Sell`, `Dividend`, `Fee`...).  \n",
    "\n",
    "- **description** → Description of the operation (e.g. *Buy to Open*).  \n",
    "\n",
    "- **quantity** → Number of shares or contracts involved.  \n",
    "\n",
    "- **price** → Execution unit price.  \n",
    "\n",
    "- **value** → Total value of the transaction.  \n",
    "\n",
    "- **date** → Date and time when the operation was executed.  \n",
    "\n",
    "The function returns a **dictionary** where the key is the *ticker* and the value is a **list of transactions** associated with that symbol.\n"
   ]
  },
  {
   "cell_type": "code",
   "execution_count": null,
   "metadata": {},
   "outputs": [],
   "source": [
    "transactions = api.all_transactions(client)\n",
    "\n",
    "print(transactions)"
   ]
  },
  {
   "cell_type": "markdown",
   "metadata": {},
   "source": [
    "`Example Output`\n",
    "\n",
    "```python\n",
    "{\n",
    "  \"AAPL\": [\n",
    "    {\n",
    "      \"id\": \"TX001\",\n",
    "      \"transaction_type\": \"Buy\",\n",
    "      \"description\": \"Buy to Open\",\n",
    "      \"quantity\": 100,\n",
    "      \"price\": 150.00,\n",
    "      \"value\": 15000.00,\n",
    "      \"date\": \"2025-09-10 14:30:00\"\n",
    "    }\n",
    "  ],\n",
    "  \"TSLA\": [\n",
    "    {\n",
    "      \"id\": \"TX002\",\n",
    "      \"transaction_type\": \"Sell\",\n",
    "      \"description\": \"Sell to Close\",\n",
    "      \"quantity\": 50,\n",
    "      \"price\": 240.00,\n",
    "      \"value\": 12000.00,\n",
    "      \"date\": \"2025-09-12 10:05:00\"\n",
    "    }\n",
    "  ]\n",
    "}\n"
   ]
  },
  {
   "cell_type": "markdown",
   "metadata": {},
   "source": [
    "It is also possible to query the transactions associated with a specific *ticker*.  \n",
    "\n",
    "The function returns a **list of transactions** if they exist, or `None` otherwise.\n"
   ]
  },
  {
   "cell_type": "code",
   "execution_count": null,
   "metadata": {},
   "outputs": [],
   "source": [
    "txs = api.check_transaction(client, \"AAPL\")\n",
    "\n",
    "print(txs)"
   ]
  },
  {
   "cell_type": "markdown",
   "metadata": {},
   "source": [
    "`Example Output`\n",
    "\n",
    "```python\n",
    "[\n",
    "  {\n",
    "    \"id\": \"TX001\",\n",
    "    \"transaction_type\": \"Buy\",\n",
    "    \"description\": \"Buy to Open\",\n",
    "    \"quantity\": 100,\n",
    "    \"price\": 150.00,\n",
    "    \"value\": 15000.00,\n",
    "    \"date\": \"2025-09-10 14:30:00\"\n",
    "  }\n",
    "]\n",
    "\n",
    "```\n",
    "---\n"
   ]
  },
  {
   "cell_type": "markdown",
   "metadata": {},
   "source": [
    "## Execute Orders\n",
    "\n",
    "To place an order you must specify:\n",
    "\n",
    "- **symbol (ticker)**: The asset to trade, for example `\"AAPL\"`.  \n",
    "\n",
    "- **quantity (val)**: The number of shares or contracts.  \n",
    "\n",
    "- **order-type**: Whether the order is `'Long'` (long position) or `'Short'` (short position).  \n",
    "\n",
    "- **action**: Whether you want to open a position (`'Start'`) or close it (`'End'`).  \n",
    "\n",
    "- **time-in-force**: Determines how long the order remains active:  \n",
    "  - `'Day'` → valid only until market close.  \n",
    "  - `'GTC'` → remains active until executed or canceled.  \n",
    "  - `'GTD'` → valid until a specific date (requires additional parameter `gtc-date`).  \n",
    "  - `'Ext'` → valid only during extended hours (equities).  \n",
    "<br>\n",
    "\n",
    "- **otype**: Defines how the order is executed:  \n",
    "  - `'Market'` → executes at the best available price, without specifying a price.  \n",
    "  - `'Limit'` → requires a specified price and executes if the market reaches it.  \n",
    "  - `'Stop'` → triggers as a market order when a stop price is reached.  \n",
    "  - `'Stop Limit'` → triggers as a limit order when a stop price is reached.  \n",
    "<br>\n",
    "\n",
    "For example: Buy 10 shares of Apple (AAPL) with a market order (`Market`), valid until today’s close (`Day`).  \n"
   ]
  },
  {
   "cell_type": "code",
   "execution_count": null,
   "metadata": {},
   "outputs": [],
   "source": [
    "order_result = api.order(\n",
    "    Client=client,\n",
    "    ticker=\"AAPL\",        \n",
    "    val=10,               \n",
    "    order_type=\"Long\",    \n",
    "    action=\"Start\",       \n",
    "    time_force=\"Day\",     \n",
    "    otype=\"Market\"        \n",
    ")\n",
    "\n",
    "print(order_result)"
   ]
  },
  {
   "cell_type": "markdown",
   "metadata": {},
   "source": [
    "`Example Output`\n",
    "\n",
    "```python\n",
    "{\n",
    "  \"Status\": \"Filled\",\n",
    "  \"Size\": 10,\n",
    "  \"Fees\": 1.25,\n",
    "  \"Commission\": 0.50,\n",
    "  \"NewBuyingPower\": 9850.00,\n",
    "  \"ReceivedAt\": \"2025-09-17 14:35:00\"\n",
    "}\n",
    "```"
   ]
  },
  {
   "cell_type": "markdown",
   "metadata": {},
   "source": [
    "When an order is executed, a dictionary is returned with the following fields:\n",
    "\n",
    "- **Status** → Order status (`Routed`, `Filled`, `Cancelled`, etc.).  \n",
    "\n",
    "- **Size** → Quantity sent in the order.  \n",
    "\n",
    "- **Fees** → Total fees associated with the trade.  \n",
    "\n",
    "- **Commission** → Broker’s commission.  \n",
    "\n",
    "- **NewBuyingPower** → Buying power available after the order.  \n",
    "\n",
    "- **ReceivedAt** → Date and time when the order was received.  \n"
   ]
  },
  {
   "cell_type": "markdown",
   "metadata": {},
   "source": [
    "## Stream Historical Market Data\n",
    "\n",
    "This function connects to the **DXFeed** *market data* provider (integrated with Tastytrade).  \n",
    "\n",
    "⚠️ **Important**: <br>  \n",
    "**It may take several seconds** depending on the number of tickers requested and the amount of data.  \n",
    "It is not unusual for it to take `more than 20 seconds` for 50 data points of a single ticker.  \n",
    "If you request many data points for multiple tickers, it may even run for `more than 1 minute`.  \n",
    "\n",
    "The workflow is as follows:\n",
    "\n",
    "1. With the **client**, a DX *token* is obtained.  \n",
    "\n",
    "2. Using that token, the historical candles for the requested **tickers** are requested via **websocket**.  \n",
    "\n",
    "3. The received data is formatted into a `DataFrame` with the selected variables.  \n",
    "\n",
    "4. Finally, the results are returned in a dictionary where each key is a ticker and the value is its `DataFrame`.  \n",
    "\n",
    "⚠️ **Important DXFeed Limitation**:  \n",
    "By design, it only allows requesting data from the **current moment backwards** up to the maximum number requested (`max_data`).  \n",
    "It is not possible to request arbitrary intervals (e.g., from one date to another).  \n",
    "That is why there is a helper function `values_from_data`, which calculates how many records are needed to reach the desired date.  \n",
    "\n",
    "---\n",
    "\n",
    "##### Parameters\n",
    "\n",
    "- **client** → Tastytrade client defined at the beginning.  \n",
    "\n",
    "- **tickers** → List of asset symbols you want to query.  \n",
    "  Example: `[\"AAPL\", \"MSFT\"]`.  \n",
    "\n",
    "- **interval** → Defines the granularity of the data. It is passed as number + unit:  \n",
    "  - `s` → seconds  \n",
    "  - `m` → minutes  \n",
    "  - `h` → hours  \n",
    "  - `d` → days  \n",
    "  - `w` → weeks  \n",
    "  - `mo` → months  \n",
    "  Example: `\"5m\"` = 5-minute candles.  \n",
    "<br>\n",
    "\n",
    "- **vars** → List of variables you want to retrieve. Available values (specify the ones you need):  \n",
    "  - `'open'` → Opening price (`Open`)  \n",
    "  - `'high'` → Highest price (`High`)  \n",
    "  - `'low'` → Lowest price (`Low`)  \n",
    "  - `'close'` → Closing price (`Close`)  \n",
    "  - `'volume'` → Volume (`Volume`)  \n",
    "<br>\n",
    "\n",
    "- **max_data** → Maximum number of records to request.  \n",
    "  It is usually adjusted with the `values_from_data` function to obtain exactly the amount of data needed up to the desired date.  \n",
    "\n",
    "##### `Example`:  \n",
    "`Download 50 candles every 5 minutes for AAPL and TSLA, only open, close, and volume.`  \n",
    "\n",
    "The function returns a **dictionary** with the following structure:  \n",
    "\n",
    "```python\n",
    "{\n",
    "    \"AAPL\": DataFrame with columns [Open, Close, Volume, Date],\n",
    "    \"TSLA\": DataFrame with columns [Open, Close, Volume, Date],\n",
    "}\n"
   ]
  },
  {
   "cell_type": "code",
   "execution_count": 6,
   "metadata": {},
   "outputs": [],
   "source": [
    "tickers = ['AAPL','TSLA']\n",
    "interval = '5m'\n",
    "max_data= 50\n",
    "vars = ['open', 'close','volume']\n",
    "\n",
    "historical = api.get_historical(client, tickers, interval, vars,max_data)"
   ]
  },
  {
   "cell_type": "code",
   "execution_count": 7,
   "metadata": {},
   "outputs": [
    {
     "data": {
      "text/html": [
       "<div>\n",
       "<style scoped>\n",
       "    .dataframe tbody tr th:only-of-type {\n",
       "        vertical-align: middle;\n",
       "    }\n",
       "\n",
       "    .dataframe tbody tr th {\n",
       "        vertical-align: top;\n",
       "    }\n",
       "\n",
       "    .dataframe thead th {\n",
       "        text-align: right;\n",
       "    }\n",
       "</style>\n",
       "<table border=\"1\" class=\"dataframe\">\n",
       "  <thead>\n",
       "    <tr style=\"text-align: right;\">\n",
       "      <th></th>\n",
       "      <th>Open</th>\n",
       "      <th>Close</th>\n",
       "      <th>Volume</th>\n",
       "      <th>Date</th>\n",
       "    </tr>\n",
       "  </thead>\n",
       "  <tbody>\n",
       "    <tr>\n",
       "      <th>31</th>\n",
       "      <td>421.39</td>\n",
       "      <td>421.4199</td>\n",
       "      <td>5301.0</td>\n",
       "      <td>2025-09-16 21:30:00</td>\n",
       "    </tr>\n",
       "    <tr>\n",
       "      <th>32</th>\n",
       "      <td>421.3875</td>\n",
       "      <td>421.3</td>\n",
       "      <td>4699.0</td>\n",
       "      <td>2025-09-16 21:25:00</td>\n",
       "    </tr>\n",
       "    <tr>\n",
       "      <th>33</th>\n",
       "      <td>421.201</td>\n",
       "      <td>421.345</td>\n",
       "      <td>5873.0</td>\n",
       "      <td>2025-09-16 21:20:00</td>\n",
       "    </tr>\n",
       "    <tr>\n",
       "      <th>34</th>\n",
       "      <td>421.6378</td>\n",
       "      <td>421.2003</td>\n",
       "      <td>5399.0</td>\n",
       "      <td>2025-09-16 21:15:00</td>\n",
       "    </tr>\n",
       "    <tr>\n",
       "      <th>35</th>\n",
       "      <td>421.359</td>\n",
       "      <td>421.6</td>\n",
       "      <td>5233.0</td>\n",
       "      <td>2025-09-16 21:10:00</td>\n",
       "    </tr>\n",
       "    <tr>\n",
       "      <th>36</th>\n",
       "      <td>421.39</td>\n",
       "      <td>421.31</td>\n",
       "      <td>6369.0</td>\n",
       "      <td>2025-09-16 21:05:00</td>\n",
       "    </tr>\n",
       "  </tbody>\n",
       "</table>\n",
       "</div>"
      ],
      "text/plain": [
       "        Open     Close  Volume                Date\n",
       "31    421.39  421.4199  5301.0 2025-09-16 21:30:00\n",
       "32  421.3875     421.3  4699.0 2025-09-16 21:25:00\n",
       "33   421.201   421.345  5873.0 2025-09-16 21:20:00\n",
       "34  421.6378  421.2003  5399.0 2025-09-16 21:15:00\n",
       "35   421.359     421.6  5233.0 2025-09-16 21:10:00\n",
       "36    421.39    421.31  6369.0 2025-09-16 21:05:00"
      ]
     },
     "execution_count": 7,
     "metadata": {},
     "output_type": "execute_result"
    }
   ],
   "source": [
    "historical['TSLA'].head(6)"
   ]
  },
  {
   "cell_type": "markdown",
   "metadata": {},
   "source": [
    "You can calculate `max_data` based on a date (`values_from_data`).  \n",
    "\n",
    "This function automatically calculates how many points (`max_data`) need to be requested in `get_historical` to cover from a **start date** up to **now**, depending on the interval.  \n",
    "\n",
    "Required parameters:  \n",
    "- **interval** → candle size (`'5m'`, `'1h'`, `'1d'`, `'1w'`, `'1mo'`).  \n",
    "- **date** → start date (`datetime`).  \n",
    "\n",
    "It returns an integer that is then passed as `max_data` in `get_historical` to retrieve all the data from that date until the present.  \n",
    "\n",
    "`Example:` Get daily candles (`'1d'`) from **April 21, 2025** up to today:  \n"
   ]
  },
  {
   "cell_type": "code",
   "execution_count": 8,
   "metadata": {},
   "outputs": [
    {
     "name": "stdout",
     "output_type": "stream",
     "text": [
      "Como max_data usaremos:  150\n"
     ]
    }
   ],
   "source": [
    "from datetime import datetime, timezone\n",
    "\n",
    "date = datetime(2025, 4, 21, 12, 0, tzinfo=timezone.utc)\n",
    "needed = api.values_from_data(\"1d\", date)\n",
    "\n",
    "print('Como max_data usaremos: ',needed)"
   ]
  },
  {
   "cell_type": "markdown",
   "metadata": {},
   "source": [
    "## Stream Real-Time Data\n",
    "\n",
    "`RealTimeStreamer` is a simple wrapper to connect to the **DXFeed websocket** (via Tastytrade) and receive **real-time quotes** without the user having to manually manage the connection.  \n",
    "It is designed for dashboards, bots, or scripts that need real-time prices for multiple symbols.  \n",
    "\n",
    "**Returns** a dictionary with the **`askPrice`** of each requested quote.  \n",
    "**Connection:** it is **open and persistent**; therefore, sometimes **fuzzy or incomplete messages** may arrive, some connections may **take time to open or close**, and **not all symbols** update at the same time (some messages **may arrive with a delay** compared to others).  \n",
    "\n",
    "**How it works:** the object continuously sends messages until the user stops it; it is usually used with **infinite `while` loops**, or with **`while` + `break` / `for`** if you only want it active for a set period of time.  \n",
    "\n",
    "```The data is contained in the streamer variable called data --> object.data```\n",
    "\n",
    "---\n",
    "\n",
    "#### Parameters\n",
    "\n",
    "- `client`: tastytrade client defined at the beginning.  \n",
    "- `tickers`: list of symbols, e.g. `[\"AAPL\", \"TSLA\"]`.  \n",
    "- `verbose` *(bool, optional; default `False`)*: if set to `True`, **prints all websocket messages** and the connection status (useful for debugging).  \n",
    "\n",
    "---\n",
    "\n",
    "#### Response\n",
    "\n",
    "- **`data`** *(dict)*: latest **`askPrice`** per symbol, e.g.  \n",
    "  ```python\n",
    "  {\"AAPL\": 238.00, \"MSFT\": 510.05}\n",
    "  ```\n",
    "\n",
    "  >\n",
    "  > **``` This is the variable you will work with```**  \n",
    "  >\n"
   ]
  },
  {
   "cell_type": "code",
   "execution_count": 9,
   "metadata": {},
   "outputs": [
    {
     "name": "stdout",
     "output_type": "stream",
     "text": [
      "{'AAPL': 238.1, 'TSLA': 422.61, 'MSFT': 510.19, 'AMZN': 233.85, 'GOOGL': 251.43}\n",
      "{'AAPL': 238.1, 'TSLA': 422.61, 'MSFT': 510.19, 'AMZN': 233.85, 'GOOGL': 251.43}\n",
      "{'AAPL': 238.1, 'TSLA': 422.6, 'MSFT': 510.19, 'AMZN': 233.85, 'GOOGL': 251.43}\n",
      "{'AAPL': 238.1, 'TSLA': 422.6, 'MSFT': 510.19, 'AMZN': 233.85, 'GOOGL': 251.43}\n",
      "{'AAPL': 238.1, 'TSLA': 422.6, 'MSFT': 510.19, 'AMZN': 233.85, 'GOOGL': 251.43}\n",
      "{'AAPL': 238.1, 'TSLA': 422.6, 'MSFT': 510.19, 'AMZN': 233.85, 'GOOGL': 251.43}\n",
      "{'AAPL': 238.1, 'TSLA': 422.58, 'MSFT': 510.19, 'AMZN': 233.85, 'GOOGL': 251.43}\n",
      "{'AAPL': 238.1, 'TSLA': 422.56, 'MSFT': 510.19, 'AMZN': 233.85, 'GOOGL': 251.43}\n",
      "{'AAPL': 238.1, 'TSLA': 422.56, 'MSFT': 510.19, 'AMZN': 233.85, 'GOOGL': 251.43}\n",
      "{'AAPL': 238.1, 'TSLA': 422.56, 'MSFT': 510.19, 'AMZN': 233.85, 'GOOGL': 251.43}\n"
     ]
    }
   ],
   "source": [
    "import time\n",
    "\n",
    "tickers = ['AAPL','TSLA','MSFT','AMZN','GOOGL']   \n",
    "\n",
    "stream = api.RealTimeStreamer(client,tickers)\n",
    "\n",
    "stream.start()\n",
    "\n",
    "for _ in range(10):\n",
    "    data = stream.data\n",
    "    print(data)\n",
    "    time.sleep(1)\n",
    "    \n",
    "stream.stop()"
   ]
  },
  {
   "cell_type": "code",
   "execution_count": 12,
   "metadata": {},
   "outputs": [
    {
     "name": "stdout",
     "output_type": "stream",
     "text": [
      "-->Connection opened\n",
      "Message received --> {\"type\":\"SETUP\",\"channel\":0,\"keepaliveTimeout\":120,\"acceptKeepaliveTimeout\":120,\"version\":\"1.0-1.2.3-20240912-171526\"}\n",
      "Message received --> {\"type\":\"AUTH_STATE\",\"channel\":0,\"state\":\"UNAUTHORIZED\"}\n",
      "Message received --> {\"type\":\"AUTH_STATE\",\"channel\":0,\"state\":\"AUTHORIZED\",\"userId\":\"abcd1234-5678-90ab-cdef-112233445566\"}\n",
      "Message received --> {\"type\":\"CHANNEL_OPENED\",\"channel\":3,\"service\":\"FEED\",\"parameters\":{\"contract\":\"AUTO\",\"subFormat\":\"LIST\"}}\n",
      "Message received --> {\"type\":\"FEED_CONFIG\",\"channel\":3,\"dataFormat\":\"COMPACT\",\"aggregationPeriod\":0.1}\n",
      "Message received --> {\"type\":\"FEED_CONFIG\",\"channel\":3,\"dataFormat\":\"COMPACT\",\"aggregationPeriod\":0.1,\"eventFields\":{\"Quote\":[\"askPrice\",\"eventSymbol\"]}}\n",
      "Message received --> {\"type\":\"FEED_DATA\",\"channel\":3,\"data\":[\"Quote\",[241.15,\"AAPL\"]]}\n",
      "{'AAPL': 241.15}\n",
      "The condition happened, stopping the stream.\n",
      "-->Connection closed\n",
      "-->Streamer stopped\n"
     ]
    }
   ],
   "source": [
    "tickers = ['AAPL']\n",
    "\n",
    "stream = api.RealTimeStreamer(client,tickers,verbose=True)\n",
    "\n",
    "stream.start()\n",
    "\n",
    "\n",
    "while True:\n",
    "    data = stream.data\n",
    "    print(data)\n",
    "\n",
    "    if data and data['AAPL'] > 238:\n",
    "        print(\"The condition happened, stopping the stream.\")\n",
    "        stream.stop()\n",
    "        break\n",
    "\n",
    "    time.sleep(1)"
   ]
  },
  {
   "cell_type": "markdown",
   "metadata": {},
   "source": [
    "`The userId variable is randomly generated so it is not visible`"
   ]
  }
 ],
 "metadata": {
  "kernelspec": {
   "display_name": "venv",
   "language": "python",
   "name": "python3"
  },
  "language_info": {
   "codemirror_mode": {
    "name": "ipython",
    "version": 3
   },
   "file_extension": ".py",
   "mimetype": "text/x-python",
   "name": "python",
   "nbconvert_exporter": "python",
   "pygments_lexer": "ipython3",
   "version": "3.12.0"
  }
 },
 "nbformat": 4,
 "nbformat_minor": 2
}
